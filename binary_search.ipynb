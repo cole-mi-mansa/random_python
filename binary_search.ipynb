{
 "cells": [
  {
   "cell_type": "code",
   "execution_count": 1,
   "metadata": {},
   "outputs": [],
   "source": [
    "def binary_search(array, target):\n",
    "    left = 0\n",
    "    right = len(array)-1\n",
    "\n",
    "    while left<=right:\n",
    "        mid = (left+right)//2\n",
    "\n",
    "        if array[mid] == target:\n",
    "            return mid\n",
    "        elif array[mid] < target:\n",
    "            left = mid+1\n",
    "        else:\n",
    "            right = mid-1\n"
   ]
  },
  {
   "cell_type": "code",
   "execution_count": 4,
   "metadata": {},
   "outputs": [
    {
     "name": "stdout",
     "output_type": "stream",
     "text": [
      "8 exists at index 14\n"
     ]
    }
   ],
   "source": [
    "array = [1,1,1,1,2,3,3,3,4,4,4,5,6,7,8,9]\n",
    "target = 8\n",
    "index = binary_search(array, target)\n",
    "print(f\"{target} exists at index {index}\")"
   ]
  }
 ],
 "metadata": {
  "kernelspec": {
   "display_name": "Python 3",
   "language": "python",
   "name": "python3"
  },
  "language_info": {
   "codemirror_mode": {
    "name": "ipython",
    "version": 3
   },
   "file_extension": ".py",
   "mimetype": "text/x-python",
   "name": "python",
   "nbconvert_exporter": "python",
   "pygments_lexer": "ipython3",
   "version": "3.13.1"
  }
 },
 "nbformat": 4,
 "nbformat_minor": 2
}
