{
 "cells": [
  {
   "cell_type": "code",
   "execution_count": 86,
   "id": "ccef2e50",
   "metadata": {},
   "outputs": [
    {
     "name": "stdout",
     "output_type": "stream",
     "text": [
      "['C', 'o', 'l', 'e', ' ', 'i', 's', ' ', 'a', ' ', 'g', 'e', 'n', 'i', 'u', 's']\n"
     ]
    }
   ],
   "source": [
    "sentence = 'Cole is a genius'\n",
    "sent_arr = []\n",
    "for i in sentence:\n",
    "    sent_arr.append(i)\n",
    "\n",
    "print(sent_arr)"
   ]
  },
  {
   "cell_type": "code",
   "execution_count": 87,
   "id": "7a764c84",
   "metadata": {},
   "outputs": [],
   "source": [
    "def pig_latin_translator(sent):\n",
    "    words = sent.split()\n",
    "    new_words = []\n",
    "    for i in words:\n",
    "        new_words.append(igpay_atinlay(i))\n",
    "    new_sentence = ''\n",
    "    for j in new_words:\n",
    "        new_sentence += j\n",
    "        new_sentence += ' '\n",
    "    return f\"{sent}, in pig latin, translates to '{new_sentence}'\"\n",
    "          \n",
    "\n",
    "def igpay_atinlay(word):\n",
    "    word_arr = []\n",
    "    for i in str(word):\n",
    "        word_arr.append(i)\n",
    "    first = word_arr.pop(0)\n",
    "    word_arr.append(first)\n",
    "    word_arr.append('ay')\n",
    "    new_word = ''\n",
    "    for j in word_arr:\n",
    "        new_word += j\n",
    "    return new_word\n"
   ]
  },
  {
   "cell_type": "code",
   "execution_count": 88,
   "id": "41398487",
   "metadata": {},
   "outputs": [
    {
     "name": "stdout",
     "output_type": "stream",
     "text": [
      "Cole, in pig latin, translates to 'oleCay '\n"
     ]
    }
   ],
   "source": [
    "print(pig_latin_translator('Cole'))"
   ]
  },
  {
   "cell_type": "code",
   "execution_count": 89,
   "id": "5a91be10",
   "metadata": {},
   "outputs": [
    {
     "name": "stdout",
     "output_type": "stream",
     "text": [
      "Cole is an absolute genius, in pig latin, translates to 'oleCay siay naay bsoluteaay eniusgay '\n"
     ]
    }
   ],
   "source": [
    "print(pig_latin_translator('Cole is an absolute genius'))"
   ]
  },
  {
   "cell_type": "code",
   "execution_count": 90,
   "id": "dcb4bd94",
   "metadata": {},
   "outputs": [
    {
     "name": "stdout",
     "output_type": "stream",
     "text": [
      "Look what I can do, in pig latin, translates to 'ookLay hatway Iay ancay oday '\n"
     ]
    }
   ],
   "source": [
    "print(pig_latin_translator('Look what I can do'))"
   ]
  }
 ],
 "metadata": {
  "kernelspec": {
   "display_name": "Python 3",
   "language": "python",
   "name": "python3"
  },
  "language_info": {
   "codemirror_mode": {
    "name": "ipython",
    "version": 3
   },
   "file_extension": ".py",
   "mimetype": "text/x-python",
   "name": "python",
   "nbconvert_exporter": "python",
   "pygments_lexer": "ipython3",
   "version": "3.13.1"
  }
 },
 "nbformat": 4,
 "nbformat_minor": 5
}
