{
 "cells": [
  {
   "cell_type": "code",
   "execution_count": 5,
   "id": "4d69d1cb",
   "metadata": {},
   "outputs": [],
   "source": [
    "def igpay_atinlay(word):\n",
    "    word_arr = []\n",
    "    for i in str(word):\n",
    "        word_arr.append(i)\n",
    "    first = word_arr.pop(0)\n",
    "    word_arr.append(first)\n",
    "    word_arr.append('ay')\n",
    "    new_word = ''\n",
    "    for j in word_arr:\n",
    "        new_word += j\n",
    "    return new_word"
   ]
  },
  {
   "cell_type": "code",
   "execution_count": 6,
   "id": "4a5081e6",
   "metadata": {},
   "outputs": [
    {
     "name": "stdout",
     "output_type": "stream",
     "text": [
      "Cole in pig latin is oleCay\n"
     ]
    }
   ],
   "source": [
    "word = input(\"Enter random word: \")\n",
    "print(f\"{word} in pig latin is {igpay_atinlay(word)}\")"
   ]
  },
  {
   "cell_type": "code",
   "execution_count": 7,
   "id": "99980a53",
   "metadata": {},
   "outputs": [
    {
     "name": "stdout",
     "output_type": "stream",
     "text": [
      "Lynette in pig latin is ynetteLay\n"
     ]
    }
   ],
   "source": [
    "word = input(\"Enter random word: \")\n",
    "print(f\"{word} in pig latin is {igpay_atinlay(word)}\")"
   ]
  },
  {
   "cell_type": "code",
   "execution_count": 8,
   "id": "3a536a58",
   "metadata": {},
   "outputs": [
    {
     "name": "stdout",
     "output_type": "stream",
     "text": [
      "Drusilla in pig latin is rusillaDay\n"
     ]
    }
   ],
   "source": [
    "word = input(\"Enter random word: \")\n",
    "print(f\"{word} in pig latin is {igpay_atinlay(word)}\")"
   ]
  },
  {
   "cell_type": "code",
   "execution_count": 9,
   "id": "f6bce9ae",
   "metadata": {},
   "outputs": [
    {
     "name": "stdout",
     "output_type": "stream",
     "text": [
      "watermelon in pig latin is atermelonway\n"
     ]
    }
   ],
   "source": [
    "word = input(\"Enter random word: \")\n",
    "print(f\"{word} in pig latin is {igpay_atinlay(word)}\")"
   ]
  }
 ],
 "metadata": {
  "kernelspec": {
   "display_name": "Python 3",
   "language": "python",
   "name": "python3"
  },
  "language_info": {
   "codemirror_mode": {
    "name": "ipython",
    "version": 3
   },
   "file_extension": ".py",
   "mimetype": "text/x-python",
   "name": "python",
   "nbconvert_exporter": "python",
   "pygments_lexer": "ipython3",
   "version": "3.13.1"
  }
 },
 "nbformat": 4,
 "nbformat_minor": 5
}
