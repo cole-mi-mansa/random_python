{
 "cells": [
  {
   "cell_type": "code",
   "execution_count": 10,
   "id": "0058e55b",
   "metadata": {},
   "outputs": [],
   "source": [
    "my_stack = []"
   ]
  },
  {
   "cell_type": "code",
   "execution_count": null,
   "id": "c67b5ed6",
   "metadata": {},
   "outputs": [],
   "source": [
    "def push_onto(stack, value): #push element to top of stack\n",
    "    stack.append(value)\n",
    "\n",
    "def pop_frm(stack): #remove top element\n",
    "    stack.pop()\n",
    "\n",
    "def peek_frst_element(stack): #show top element\n",
    "    print(f\"top element is {stack[-1]}\")\n",
    "\n",
    "def display_top_to_bottom(stack): #display all elements starting from the top to the bottom\n",
    "    reverse_stack = []\n",
    "    n = len(stack)-1\n",
    "    while n >= 0:\n",
    "        reverse_stack.append(stack[n])\n",
    "        n -= 1\n",
    "    print(reverse_stack)\n",
    "\n",
    "def check_empty(stack): #check if the stack is empty or not\n",
    "    n = 0\n",
    "    for i in range(len(stack)):\n",
    "        n += 1\n",
    "    if n == 0:\n",
    "        print(\"empty stack!\")\n",
    "    else:\n",
    "        print(\"not empty!\")\n",
    "\n",
    "def stack_position(stack, element): #show what position from the top an element is\n",
    "    n = 0\n",
    "    position = 0\n",
    "    for i in range(len(stack)):\n",
    "        if stack[i] != element:\n",
    "            n += 1\n",
    "        else:\n",
    "            position = len(stack) - n\n",
    "            print(position)\n",
    "            return\n",
    "\n",
    "def clear_stack(stack): #remove all elements in a stack\n",
    "    for i in range(len(stack)):\n",
    "        stack.pop()"
   ]
  },
  {
   "cell_type": "code",
   "execution_count": 12,
   "id": "16c22e4f",
   "metadata": {},
   "outputs": [
    {
     "name": "stdout",
     "output_type": "stream",
     "text": [
      "[1, 2, 3, 4, 5]\n"
     ]
    }
   ],
   "source": [
    "push_onto(my_stack, 5)\n",
    "push_onto(my_stack, 4)\n",
    "push_onto(my_stack, 3)\n",
    "push_onto(my_stack, 2)\n",
    "push_onto(my_stack, 1)\n",
    "display_top_to_bottom(my_stack)"
   ]
  },
  {
   "cell_type": "code",
   "execution_count": 13,
   "id": "9275293a",
   "metadata": {},
   "outputs": [
    {
     "name": "stdout",
     "output_type": "stream",
     "text": [
      "top element is 1\n",
      "[2, 3, 4, 5]\n",
      "top element is 2\n"
     ]
    }
   ],
   "source": [
    "peek_frst_element(my_stack)\n",
    "pop_frm(my_stack)\n",
    "display_top_to_bottom(my_stack)\n",
    "peek_frst_element(my_stack)"
   ]
  },
  {
   "cell_type": "code",
   "execution_count": 14,
   "id": "c12cd31a",
   "metadata": {},
   "outputs": [
    {
     "name": "stdout",
     "output_type": "stream",
     "text": [
      "not empty!\n",
      "1\n",
      "empty stack!\n"
     ]
    }
   ],
   "source": [
    "check_empty(my_stack)\n",
    "stack_position(my_stack, 2)\n",
    "clear_stack(my_stack)\n",
    "check_empty(my_stack)"
   ]
  }
 ],
 "metadata": {
  "kernelspec": {
   "display_name": "Python 3",
   "language": "python",
   "name": "python3"
  },
  "language_info": {
   "codemirror_mode": {
    "name": "ipython",
    "version": 3
   },
   "file_extension": ".py",
   "mimetype": "text/x-python",
   "name": "python",
   "nbconvert_exporter": "python",
   "pygments_lexer": "ipython3",
   "version": "3.13.1"
  }
 },
 "nbformat": 4,
 "nbformat_minor": 5
}
