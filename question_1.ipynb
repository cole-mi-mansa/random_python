{
 "cells": [
  {
   "cell_type": "code",
   "execution_count": 11,
   "id": "1624721b",
   "metadata": {},
   "outputs": [],
   "source": [
    "def add_el(array, element): #add elements at the end of the array\n",
    "    array.append(element)\n",
    "\n",
    "def remove_el(array, element): #remove element from array as requested\n",
    "    for i in range(len(array)):\n",
    "        if array[i] == element:\n",
    "            array.pop(i)\n",
    "            return\n",
    "\n",
    "def display_els(array): #print the current array\n",
    "    print(array)\n",
    "\n",
    "def display_len(array): #print out the length of the array\n",
    "    print(len(array))\n",
    "\n",
    "def clear_list(array): #clear all elements in the array\n",
    "    for i in range(len(array)):\n",
    "        array.pop()\n",
    "\n",
    "def check_el(array, element): #check for a specific element in the array\n",
    "    existence = False\n",
    "    for i in range(len(array)):\n",
    "        if array[i] == element:\n",
    "            existence = True\n",
    "    if existence == True:\n",
    "        print(f\"{element} exists\")\n",
    "    else:\n",
    "        print(f\"{element} doesn't exist\")\n",
    "\n",
    "    \n",
    "\n",
    "def sort_all(array): #sort the array\n",
    "    array.sort()"
   ]
  },
  {
   "cell_type": "code",
   "execution_count": 12,
   "id": "fc1b9529",
   "metadata": {},
   "outputs": [],
   "source": [
    "nums = []"
   ]
  },
  {
   "cell_type": "code",
   "execution_count": 13,
   "id": "dd3778f6",
   "metadata": {},
   "outputs": [
    {
     "name": "stdout",
     "output_type": "stream",
     "text": [
      "[3, 82, 36, 17, 9]\n",
      "5\n"
     ]
    }
   ],
   "source": [
    "add_el(nums, 3)\n",
    "add_el(nums, 82)\n",
    "add_el(nums, 36)\n",
    "add_el(nums, 17)\n",
    "add_el(nums, 9)\n",
    "display_els(nums)\n",
    "display_len(nums)"
   ]
  },
  {
   "cell_type": "code",
   "execution_count": 14,
   "id": "e7de53a7",
   "metadata": {},
   "outputs": [
    {
     "name": "stdout",
     "output_type": "stream",
     "text": [
      "17 exists\n",
      "17 doesn't exist\n"
     ]
    }
   ],
   "source": [
    "check_el(nums, 17)\n",
    "remove_el(nums, 17)\n",
    "check_el(nums, 17)"
   ]
  },
  {
   "cell_type": "code",
   "execution_count": 15,
   "id": "986f882a",
   "metadata": {},
   "outputs": [
    {
     "name": "stdout",
     "output_type": "stream",
     "text": [
      "[3, 9, 36, 82]\n"
     ]
    }
   ],
   "source": [
    "sort_all(nums)\n",
    "display_els(nums)"
   ]
  },
  {
   "cell_type": "code",
   "execution_count": 16,
   "id": "c6bafeec",
   "metadata": {},
   "outputs": [
    {
     "name": "stdout",
     "output_type": "stream",
     "text": [
      "[]\n"
     ]
    }
   ],
   "source": [
    "clear_list(nums)\n",
    "print(nums)"
   ]
  }
 ],
 "metadata": {
  "kernelspec": {
   "display_name": "Python 3",
   "language": "python",
   "name": "python3"
  },
  "language_info": {
   "codemirror_mode": {
    "name": "ipython",
    "version": 3
   },
   "file_extension": ".py",
   "mimetype": "text/x-python",
   "name": "python",
   "nbconvert_exporter": "python",
   "pygments_lexer": "ipython3",
   "version": "3.13.1"
  }
 },
 "nbformat": 4,
 "nbformat_minor": 5
}
